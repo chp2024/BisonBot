{
 "cells": [
  {
   "cell_type": "code",
   "execution_count": 1,
   "metadata": {},
   "outputs": [],
   "source": [
    "# Import necessary libraries\n",
    "from langchain.text_splitter import RecursiveCharacterTextSplitter\n",
    "from langchain.embeddings import HuggingFaceEmbeddings\n",
    "# from langchain.vectorstores import FAISS\n",
    "from langchain_chroma import Chroma\n",
    "from PyPDF2 import PdfReader"
   ]
  },
  {
   "cell_type": "code",
   "execution_count": 2,
   "metadata": {},
   "outputs": [],
   "source": [
    "FILES = [\n",
    "    './train_files/calendar_24_25.pdf',\n",
    "]"
   ]
  },
  {
   "cell_type": "code",
   "execution_count": 3,
   "metadata": {},
   "outputs": [
    {
     "name": "stderr",
     "output_type": "stream",
     "text": [
      "e:\\senior\\BisonBot\\.venv\\lib\\site-packages\\tqdm\\auto.py:21: TqdmWarning: IProgress not found. Please update jupyter and ipywidgets. See https://ipywidgets.readthedocs.io/en/stable/user_install.html\n",
      "  from .autonotebook import tqdm as notebook_tqdm\n",
      "e:\\senior\\BisonBot\\.venv\\lib\\site-packages\\huggingface_hub\\file_download.py:1132: FutureWarning: `resume_download` is deprecated and will be removed in version 1.0.0. Downloads always resume when possible. If you want to force a new download, use `force_download=True`.\n",
      "  warnings.warn(\n",
      "e:\\senior\\BisonBot\\.venv\\lib\\site-packages\\huggingface_hub\\file_download.py:1132: FutureWarning: `resume_download` is deprecated and will be removed in version 1.0.0. Downloads always resume when possible. If you want to force a new download, use `force_download=True`.\n",
      "  warnings.warn(\n"
     ]
    }
   ],
   "source": [
    "embedding_model = \"sentence-transformers/all-mpnet-base-v2\"\n",
    "\n",
    "# Initialize embeddings using HuggingFace model\n",
    "embeddings = HuggingFaceEmbeddings(model_name=embedding_model)\n",
    "\n",
    "vector_store = Chroma(\n",
    "    collection_name='howard_information',\n",
    "    embedding_function=embeddings,\n",
    "    persist_directory='./data/chroma'\n",
    ")\n",
    "\n",
    "for file_path in FILES:\n",
    "    # Convert the content of the PDF file to a BytesIO stream\n",
    "    file = open(file_path, 'rb')\n",
    "\n",
    "    # Create a PdfReader object from the stream to extract text \n",
    "    pdf = PdfReader(file)  \n",
    "    pdf_text = \"\"\n",
    "    # # Iterate through each page in the PDF and extract text\n",
    "    for page in pdf.pages:\n",
    "        pdf_text += page.extract_text()  # Concatenate the text from each page\n",
    "\n",
    "    # # ### Create embeddings for the uploaded documents and store in vector store\n",
    "    # # # Initialize a text splitter for processing long texts\n",
    "    text_splitter = RecursiveCharacterTextSplitter(chunk_size=1500, \n",
    "                                                    chunk_overlap=200)\n",
    "    # pdf_text = \"\"\"\"\"\"\n",
    "    # # Create documents by splitting the provided texts\n",
    "    documents = text_splitter.create_documents([pdf_text])\n",
    "    # # Create embeddings\n",
    "    vector_store.add_documents(documents)"
   ]
  },
  {
   "cell_type": "code",
   "execution_count": null,
   "metadata": {},
   "outputs": [],
   "source": []
  }
 ],
 "metadata": {
  "kernelspec": {
   "display_name": ".venv",
   "language": "python",
   "name": "python3"
  },
  "language_info": {
   "codemirror_mode": {
    "name": "ipython",
    "version": 3
   },
   "file_extension": ".py",
   "mimetype": "text/x-python",
   "name": "python",
   "nbconvert_exporter": "python",
   "pygments_lexer": "ipython3",
   "version": "3.10.11"
  }
 },
 "nbformat": 4,
 "nbformat_minor": 2
}
