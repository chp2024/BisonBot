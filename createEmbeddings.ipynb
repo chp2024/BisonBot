{
 "cells": [
  {
   "cell_type": "code",
   "execution_count": 4,
   "metadata": {},
   "outputs": [],
   "source": [
    "# Import necessary libraries\n",
    "from langchain.text_splitter import RecursiveCharacterTextSplitter\n",
    "from langchain.embeddings import HuggingFaceEmbeddings\n",
    "# from langchain.vectorstores import FAISS\n",
    "from langchain_chroma import Chroma\n",
    "from PyPDF2 import PdfReader\n",
    "import os\n",
    "import re\n",
    "import concurrent.futures\n",
    "from PyPDF2 import PdfReader\n",
    "from io import BytesIO\n",
    "import threading"
   ]
  },
  {
   "cell_type": "code",
   "execution_count": 5,
   "metadata": {},
   "outputs": [
    {
     "name": "stdout",
     "output_type": "stream",
     "text": [
      "about_howard___howard_university.pdf already exists\n"
     ]
    }
   ],
   "source": [
    "def rename_files(directory):\n",
    "    \"\"\"Renames files in a given directory, keeping only letters, underscores, and periods.\n",
    "\n",
    "    Args:\n",
    "        directory: The path to the directory.\n",
    "    \"\"\"\n",
    "\n",
    "    for filename in os.listdir(directory):\n",
    "        old_filepath = os.path.join(directory, filename)\n",
    "        new_filename = re.sub(r\"[^a-zA-Z._]\", \"\", filename).lower()\n",
    "        new_filepath = os.path.join(directory, new_filename)\n",
    "\n",
    "        if old_filepath != new_filepath:\n",
    "            try:\n",
    "                os.rename(old_filepath, new_filepath)\n",
    "                print(f\"Renamed '{filename}' to '{new_filename}'\")\n",
    "            except FileExistsError:\n",
    "                print(f\"{new_filename} already exists\")\n",
    "\n",
    "directory = \"./train_files\"\n",
    "rename_files(directory)"
   ]
  },
  {
   "cell_type": "code",
   "execution_count": 6,
   "metadata": {},
   "outputs": [
    {
     "name": "stdout",
     "output_type": "stream",
     "text": [
      "['./train_files/about_howard___howard_university.pdf', './train_files/about_howard___howard_university1.pdf', './train_files/about_our_team___human_resources.pdf', './train_files/administration___howard_university.pdf', './train_files/admission_policy___admission.pdf', './train_files/admission_profile___admission.pdf', './train_files/alma_mater___howard_university.pdf', './train_files/alumni.pdf', './train_files/announcements___the_dig_at_howard_university.pdf', './train_files/billing_policy.pdf', './train_files/bison_s.a.f.e.__the_universitys_safety_response_app___howard_university.pdf', './train_files/blog___admission.pdf', './train_files/calendar__.pdf', './train_files/campus_life___admission.pdf', './train_files/careers___human_resources.pdf', './train_files/course_catalogue.pdf', './train_files/diversity__inclusion___howard_university_student_affairs.pdf', './train_files/events___howard_university_alumni_relations.pdf', './train_files/faq_and_housing_meeting_recaps___howard_university_student_affairs.pdf', './train_files/financial_support___admission.pdf', './train_files/first_year.pdf', './train_files/former_student_returning_readmission___admission.pdf', './train_files/graduate___admission.pdf', './train_files/history___howard_university.pdf', './train_files/howard_at_a_glance___howard_university.pdf', './train_files/howard_selfguided_tour_booklet.pdf', './train_files/howard_university_alumni_relations___home.pdf', './train_files/hu_employee_handbook__.pdf', './train_files/hu_move_in_manual__fa__.pdf', './train_files/hufacultyhandbook.pdf', './train_files/important_financial_deadlines.pdf', './train_files/international_first_year_admission___admission.pdf', './train_files/mission__core_values___howard_university.pdf', './train_files/movein____howard_university_student_affairs.pdf', './train_files/news___the_dig_at_howard_university.pdf', './train_files/news__views___howard_university_alumni_relations.pdf', './train_files/office_of_student_accessibility___howard_university_student_affairs.pdf', './train_files/office_of_student_services___howard_university_student_affairs.pdf', './train_files/office_of_the_president_homepage___howard_university_president.pdf', './train_files/parent__family_program___howard_university_student_affairs.pdf', './train_files/pastpresidents_howarduniversitypresident.pdf', './train_files/policy_office___howard_university_office_of_the_secretary.pdf', './train_files/ralph_bunche_center__hu_bison_abroad__.pdf', './train_files/res_life___student_housing__min_orientation_presentationfall_.pdf', './train_files/research___the_dig_at_howard_university.pdf', './train_files/residence_hall_handbook___howard_university_student_affairs.pdf', './train_files/retirement_benefits_and_wellness___human_resources.pdf', './train_files/special_audiences___admission.pdf', './train_files/spring__summer____howard_magazine.pdf', './train_files/standard_damage_charges_complete.pdf', './train_files/student_handbook__.pdf', './train_files/study_abroad_programs_through_our_partners__.pdf', './train_files/summer___admission.pdf', './train_files/telework_at_howard___human_resources.pdf', './train_files/the_dig_at_howard_university.pdf', './train_files/third_party.pdf', './train_files/transfer_admissions__seconddegree_student___admission.pdf', './train_files/transfer_international_admission___admission.pdf', './train_files/undergraduate_academic_programs___admission.pdf', './train_files/visiting__nondegree___admission.pdf', './train_files/x_checklist_flyer_.pdf', './train_files/x_checklist_flyer__.pdf']\n"
     ]
    }
   ],
   "source": [
    "\n",
    "def get_filenames_for_creating_embeddings(directory):\n",
    "  \"\"\"Gets the names of files in a given directory and returns them as a list.\n",
    "\n",
    "  Args:\n",
    "    directory: The path to the directory.\n",
    "\n",
    "  Returns:\n",
    "    A list of filenames ready by adding the base directory.\n",
    "  \"\"\"\n",
    "\n",
    "  filenames = []\n",
    "  for filename in os.listdir(directory):\n",
    "    filenames.append(f\"{directory}/{filename}\")\n",
    "  return filenames\n",
    "\n",
    "# Get the filenames and print them\n",
    "directory = \"./train_files\"\n",
    "FILES = get_filenames_for_creating_embeddings(directory)\n",
    "FILES.sort()\n",
    "print(FILES)"
   ]
  },
  {
   "cell_type": "code",
   "execution_count": null,
   "metadata": {},
   "outputs": [],
   "source": [
    "# Create embeddings for each files faster by using threads\n",
    "embedding_model = \"sentence-transformers/all-mpnet-base-v2\"\n",
    "\n",
    "# Initialize embeddings\n",
    "embeddings = HuggingFaceEmbeddings(model_name=embedding_model)\n",
    "\n",
    "# Initialize Chroma vector store\n",
    "vector_store = Chroma(\n",
    "    collection_name='howard_information',\n",
    "    embedding_function=embeddings,\n",
    "    persist_directory='./data/chroma'\n",
    ")\n",
    "\n",
    "def process_file(file_path):\n",
    "    # Get the current thread name\n",
    "    thread_name = threading.current_thread().name\n",
    "    \n",
    "    # Display the file name and thread name\n",
    "    print(f\"Processing {file_path} in thread {thread_name}\")\n",
    "\n",
    "    # Convert the content of the PDF file to a BytesIO stream\n",
    "    with open(file_path, 'rb') as file:\n",
    "        pdf = PdfReader(file)\n",
    "        pdf_text = \"\"\n",
    "\n",
    "        # Extract text from each page\n",
    "        for page in pdf.pages:\n",
    "            pdf_text += page.extract_text()\n",
    "\n",
    "        # Initialize text splitter and split the text into chunks\n",
    "        text_splitter = RecursiveCharacterTextSplitter(chunk_size=1500, chunk_overlap=200)\n",
    "        documents = text_splitter.create_documents([pdf_text])\n",
    "\n",
    "        # Create embeddings and store them in the vector store\n",
    "        vector_store.add_documents(documents)\n",
    "\n",
    "    print(f\"Completed processing {file_path} in thread {thread_name}\")\n",
    "\n",
    "# Use ThreadPoolExecutor to run five threads\n",
    "with concurrent.futures.ThreadPoolExecutor(max_workers=5) as executor:\n",
    "    # Keep track of threads\n",
    "    futures = {executor.submit(process_file, file): file for file in FILES}\n",
    "    \n",
    "    # Wait for each thread to complete\n",
    "    for future in concurrent.futures.as_completed(futures):\n",
    "        file = futures[future]\n",
    "        try:\n",
    "            future.result()\n",
    "            print(f\"File {file} has been processed successfully.\")\n",
    "        except Exception as e:\n",
    "            print(f\"Error processing file {file}: {e}\")\n",
    "\n",
    "print(\"All files have been processed.\")\n"
   ]
  },
  {
   "cell_type": "code",
   "execution_count": null,
   "metadata": {},
   "outputs": [],
   "source": []
  }
 ],
 "metadata": {
  "kernelspec": {
   "display_name": ".venv",
   "language": "python",
   "name": "python3"
  },
  "language_info": {
   "codemirror_mode": {
    "name": "ipython",
    "version": 3
   },
   "file_extension": ".py",
   "mimetype": "text/x-python",
   "name": "python",
   "nbconvert_exporter": "python",
   "pygments_lexer": "ipython3",
   "version": "3.10.11"
  }
 },
 "nbformat": 4,
 "nbformat_minor": 2
}
